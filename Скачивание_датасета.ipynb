{
 "cells": [
  {
   "cell_type": "markdown",
   "id": "e4f499ce-a8d9-4e42-b06b-2aa237ed3069",
   "metadata": {},
   "source": [
    "# Скачивание файлов коды для этих задач"
   ]
  },
  {
   "cell_type": "code",
   "execution_count": null,
   "id": "9dd1b644-c9ac-4af5-9d04-0984742fab33",
   "metadata": {},
   "outputs": [],
   "source": [
    "# Скачать языковую модель "
   ]
  },
  {
   "cell_type": "code",
   "execution_count": null,
   "id": "123c2483-6204-454f-89c3-3176d54d6265",
   "metadata": {},
   "outputs": [],
   "source": [
    "import sys\n",
    "import subprocess\n",
    "\n",
    "def install_spacy_model(model_name):\n",
    "    \"\"\"Устанавливает языковую модель spaCy.\"\"\"\n",
    "    try:\n",
    "        subprocess.check_call([sys.executable, \"-m\", \"spacy\", \"download\", model_name])\n",
    "        print(f\"Успешно установлена языковая модель: {model_name}\")\n",
    "    except subprocess.CalledProcessError as e:\n",
    "        print(f\"Ошибка при установке модели {model_name}: {e}\")\n",
    "        print(\"Пожалуйста, убедитесь, что у вас есть доступ в интернет и spaCy установлен.\")\n",
    "\n",
    "# Укажите имя языковой модели, которую нужно установить\n",
    "model_name = \"en_core_web_sm\"\n",
    "\n",
    "# Вызываем функцию для установки модели\n",
    "install_spacy_model(model_name)\n"
   ]
  },
  {
   "cell_type": "code",
   "execution_count": null,
   "id": "4c793c00-5654-4008-ac6f-e0ea52db85ac",
   "metadata": {},
   "outputs": [],
   "source": [
    "# Скачаем датасет с kaggle\n",
    "# установка необходимых библиотек\n",
    "!pip install kaggle"
   ]
  },
  {
   "cell_type": "code",
   "execution_count": null,
   "id": "37c6bf28-449b-4bce-812e-8c0aa025257e",
   "metadata": {},
   "outputs": [],
   "source": [
    "# путь к файлу kaggle.json \n",
    "os.environ['KAGGLE_CONFIG_DIR'] = 'E:/Machine learnihg/.kaggle' # Сдесь логин и пароль для индецикации положить\n",
    "#  имя пользователя Kaggle и название датасета который будем скачивать\n",
    "dataset_name = 'lakshmi25npathi/imdb-dataset-of-50k-movie-reviews'\n",
    "\n",
    "# Путь, куда будет скачан датасет скачиваем в текущию директорию\n",
    "download_path = 'E:/Machine learnihg/' \n",
    "\n",
    "# Создаем директорию, если ее не существует\n",
    "if not os.path.exists(download_path):\n",
    "    os.makedirs(download_path)\n",
    "\n",
    "try:\n",
    "    # Скачиваем датасет\n",
    "    kaggle.api.authenticate() # аутентификация\n",
    "    kaggle.api.dataset_download_files(dataset_name, path=download_path, unzip=True)\n",
    "    print(f\"Датасет '{dataset_name}' успешно скачан в '{download_path}'\")\n",
    "\n",
    "except Exception as e:\n",
    "    print(f\"Произошла ошибка при скачивании датасета: {e}\")\n",
    "    print(\"Убедитесь, что у вас установлен Kaggle API и правильно настроены учетные данные.\")"
   ]
  },
  {
   "cell_type": "code",
   "execution_count": null,
   "id": "945a3a9a-5032-4344-abaf-7eb6b78b4c37",
   "metadata": {},
   "outputs": [],
   "source": [
    "Фаил скачен успешно"
   ]
  }
 ],
 "metadata": {
  "kernelspec": {
   "display_name": "Python 3 (ipykernel)",
   "language": "python",
   "name": "python3"
  },
  "language_info": {
   "codemirror_mode": {
    "name": "ipython",
    "version": 3
   },
   "file_extension": ".py",
   "mimetype": "text/x-python",
   "name": "python",
   "nbconvert_exporter": "python",
   "pygments_lexer": "ipython3",
   "version": "3.10.16"
  }
 },
 "nbformat": 4,
 "nbformat_minor": 5
}
